{
 "cells": [
  {
   "cell_type": "markdown",
   "metadata": {},
   "source": [
    "Part 1 -  Processing the Data.\n",
    "\n",
    "The data I downloaded are from Jan 2024 to Mar 2024, Johnson City, NY tripdata\n",
    "I combined all the data from Jan to Mar and output a combined CSV file.\n",
    "Tableau directly reads the combined CSV file to create data visualizations."
   ]
  },
  {
   "cell_type": "code",
   "execution_count": 1,
   "metadata": {},
   "outputs": [],
   "source": [
    "import pandas as pd"
   ]
  },
  {
   "cell_type": "code",
   "execution_count": 2,
   "metadata": {},
   "outputs": [],
   "source": [
    "df1 = pd.read_csv(\"JC-202401-citibike-tripdata.csv\")\n",
    "df2 = pd.read_csv(\"JC-202402-citibike-tripdata.csv\")\n",
    "df3 = pd.read_csv(\"JC-202403-citibike-tripdata.csv\")"
   ]
  },
  {
   "cell_type": "code",
   "execution_count": 3,
   "metadata": {},
   "outputs": [
    {
     "data": {
      "text/html": [
       "<div>\n",
       "<style scoped>\n",
       "    .dataframe tbody tr th:only-of-type {\n",
       "        vertical-align: middle;\n",
       "    }\n",
       "\n",
       "    .dataframe tbody tr th {\n",
       "        vertical-align: top;\n",
       "    }\n",
       "\n",
       "    .dataframe thead th {\n",
       "        text-align: right;\n",
       "    }\n",
       "</style>\n",
       "<table border=\"1\" class=\"dataframe\">\n",
       "  <thead>\n",
       "    <tr style=\"text-align: right;\">\n",
       "      <th></th>\n",
       "      <th>ride_id</th>\n",
       "      <th>rideable_type</th>\n",
       "      <th>started_at</th>\n",
       "      <th>ended_at</th>\n",
       "      <th>start_station_name</th>\n",
       "      <th>start_station_id</th>\n",
       "      <th>end_station_name</th>\n",
       "      <th>end_station_id</th>\n",
       "      <th>start_lat</th>\n",
       "      <th>start_lng</th>\n",
       "      <th>end_lat</th>\n",
       "      <th>end_lng</th>\n",
       "      <th>member_casual</th>\n",
       "    </tr>\n",
       "  </thead>\n",
       "  <tbody>\n",
       "    <tr>\n",
       "      <th>0</th>\n",
       "      <td>0744109F13385D1D</td>\n",
       "      <td>electric_bike</td>\n",
       "      <td>2024-01-15 15:18:07</td>\n",
       "      <td>2024-01-15 15:32:44</td>\n",
       "      <td>Morris Canal</td>\n",
       "      <td>JC072</td>\n",
       "      <td>Oakland Ave</td>\n",
       "      <td>JC022</td>\n",
       "      <td>40.712297</td>\n",
       "      <td>-74.038185</td>\n",
       "      <td>40.737604</td>\n",
       "      <td>-74.052478</td>\n",
       "      <td>member</td>\n",
       "    </tr>\n",
       "    <tr>\n",
       "      <th>1</th>\n",
       "      <td>B1488BFEF9118000</td>\n",
       "      <td>classic_bike</td>\n",
       "      <td>2024-01-13 15:32:50</td>\n",
       "      <td>2024-01-13 15:36:18</td>\n",
       "      <td>JC Medical Center</td>\n",
       "      <td>JC110</td>\n",
       "      <td>Grove St PATH</td>\n",
       "      <td>JC115</td>\n",
       "      <td>40.715391</td>\n",
       "      <td>-74.049692</td>\n",
       "      <td>40.719410</td>\n",
       "      <td>-74.043090</td>\n",
       "      <td>member</td>\n",
       "    </tr>\n",
       "    <tr>\n",
       "      <th>2</th>\n",
       "      <td>95A2FE8E51B4C836</td>\n",
       "      <td>classic_bike</td>\n",
       "      <td>2024-01-19 13:11:00</td>\n",
       "      <td>2024-01-19 13:14:44</td>\n",
       "      <td>Morris Canal</td>\n",
       "      <td>JC072</td>\n",
       "      <td>Exchange Pl</td>\n",
       "      <td>JC116</td>\n",
       "      <td>40.712419</td>\n",
       "      <td>-74.038526</td>\n",
       "      <td>40.716366</td>\n",
       "      <td>-74.034344</td>\n",
       "      <td>member</td>\n",
       "    </tr>\n",
       "    <tr>\n",
       "      <th>3</th>\n",
       "      <td>95D9AFF6A1652DC1</td>\n",
       "      <td>classic_bike</td>\n",
       "      <td>2024-01-23 07:03:49</td>\n",
       "      <td>2024-01-23 07:07:11</td>\n",
       "      <td>Morris Canal</td>\n",
       "      <td>JC072</td>\n",
       "      <td>Exchange Pl</td>\n",
       "      <td>JC116</td>\n",
       "      <td>40.712419</td>\n",
       "      <td>-74.038526</td>\n",
       "      <td>40.716366</td>\n",
       "      <td>-74.034344</td>\n",
       "      <td>member</td>\n",
       "    </tr>\n",
       "    <tr>\n",
       "      <th>4</th>\n",
       "      <td>5F7408988A83B1B3</td>\n",
       "      <td>classic_bike</td>\n",
       "      <td>2024-01-01 16:46:10</td>\n",
       "      <td>2024-01-01 16:50:31</td>\n",
       "      <td>Morris Canal</td>\n",
       "      <td>JC072</td>\n",
       "      <td>Harborside</td>\n",
       "      <td>JC104</td>\n",
       "      <td>40.712419</td>\n",
       "      <td>-74.038526</td>\n",
       "      <td>40.719252</td>\n",
       "      <td>-74.034234</td>\n",
       "      <td>member</td>\n",
       "    </tr>\n",
       "    <tr>\n",
       "      <th>...</th>\n",
       "      <td>...</td>\n",
       "      <td>...</td>\n",
       "      <td>...</td>\n",
       "      <td>...</td>\n",
       "      <td>...</td>\n",
       "      <td>...</td>\n",
       "      <td>...</td>\n",
       "      <td>...</td>\n",
       "      <td>...</td>\n",
       "      <td>...</td>\n",
       "      <td>...</td>\n",
       "      <td>...</td>\n",
       "      <td>...</td>\n",
       "    </tr>\n",
       "    <tr>\n",
       "      <th>171850</th>\n",
       "      <td>71034305DEC4E3AB</td>\n",
       "      <td>classic_bike</td>\n",
       "      <td>2024-03-27 17:40:07</td>\n",
       "      <td>2024-03-27 17:47:49</td>\n",
       "      <td>Grove St PATH</td>\n",
       "      <td>JC115</td>\n",
       "      <td>Lafayette Park</td>\n",
       "      <td>JC078</td>\n",
       "      <td>40.719410</td>\n",
       "      <td>-74.043090</td>\n",
       "      <td>40.713464</td>\n",
       "      <td>-74.062859</td>\n",
       "      <td>member</td>\n",
       "    </tr>\n",
       "    <tr>\n",
       "      <th>171851</th>\n",
       "      <td>52BD7EF18DBD0557</td>\n",
       "      <td>classic_bike</td>\n",
       "      <td>2024-03-15 17:25:05</td>\n",
       "      <td>2024-03-15 17:33:03</td>\n",
       "      <td>Grove St PATH</td>\n",
       "      <td>JC115</td>\n",
       "      <td>Lafayette Park</td>\n",
       "      <td>JC078</td>\n",
       "      <td>40.719410</td>\n",
       "      <td>-74.043090</td>\n",
       "      <td>40.713464</td>\n",
       "      <td>-74.062859</td>\n",
       "      <td>member</td>\n",
       "    </tr>\n",
       "    <tr>\n",
       "      <th>171852</th>\n",
       "      <td>376A4B66DD546551</td>\n",
       "      <td>classic_bike</td>\n",
       "      <td>2024-03-14 22:42:14</td>\n",
       "      <td>2024-03-14 22:50:17</td>\n",
       "      <td>Grove St PATH</td>\n",
       "      <td>JC115</td>\n",
       "      <td>Lafayette Park</td>\n",
       "      <td>JC078</td>\n",
       "      <td>40.719410</td>\n",
       "      <td>-74.043090</td>\n",
       "      <td>40.713464</td>\n",
       "      <td>-74.062859</td>\n",
       "      <td>member</td>\n",
       "    </tr>\n",
       "    <tr>\n",
       "      <th>171853</th>\n",
       "      <td>63F3690F5A7D58D4</td>\n",
       "      <td>classic_bike</td>\n",
       "      <td>2024-03-08 16:47:01</td>\n",
       "      <td>2024-03-08 16:56:44</td>\n",
       "      <td>Grove St PATH</td>\n",
       "      <td>JC115</td>\n",
       "      <td>Lafayette Park</td>\n",
       "      <td>JC078</td>\n",
       "      <td>40.719410</td>\n",
       "      <td>-74.043090</td>\n",
       "      <td>40.713464</td>\n",
       "      <td>-74.062859</td>\n",
       "      <td>member</td>\n",
       "    </tr>\n",
       "    <tr>\n",
       "      <th>171854</th>\n",
       "      <td>6E87C99CDDA7FCE4</td>\n",
       "      <td>electric_bike</td>\n",
       "      <td>2024-03-24 11:49:27</td>\n",
       "      <td>2024-03-24 11:54:47</td>\n",
       "      <td>Grove St PATH</td>\n",
       "      <td>JC115</td>\n",
       "      <td>Lafayette Park</td>\n",
       "      <td>JC078</td>\n",
       "      <td>40.719148</td>\n",
       "      <td>-74.043232</td>\n",
       "      <td>40.713464</td>\n",
       "      <td>-74.062859</td>\n",
       "      <td>member</td>\n",
       "    </tr>\n",
       "  </tbody>\n",
       "</table>\n",
       "<p>171855 rows × 13 columns</p>\n",
       "</div>"
      ],
      "text/plain": [
       "                 ride_id  rideable_type           started_at  \\\n",
       "0       0744109F13385D1D  electric_bike  2024-01-15 15:18:07   \n",
       "1       B1488BFEF9118000   classic_bike  2024-01-13 15:32:50   \n",
       "2       95A2FE8E51B4C836   classic_bike  2024-01-19 13:11:00   \n",
       "3       95D9AFF6A1652DC1   classic_bike  2024-01-23 07:03:49   \n",
       "4       5F7408988A83B1B3   classic_bike  2024-01-01 16:46:10   \n",
       "...                  ...            ...                  ...   \n",
       "171850  71034305DEC4E3AB   classic_bike  2024-03-27 17:40:07   \n",
       "171851  52BD7EF18DBD0557   classic_bike  2024-03-15 17:25:05   \n",
       "171852  376A4B66DD546551   classic_bike  2024-03-14 22:42:14   \n",
       "171853  63F3690F5A7D58D4   classic_bike  2024-03-08 16:47:01   \n",
       "171854  6E87C99CDDA7FCE4  electric_bike  2024-03-24 11:49:27   \n",
       "\n",
       "                   ended_at start_station_name start_station_id  \\\n",
       "0       2024-01-15 15:32:44       Morris Canal            JC072   \n",
       "1       2024-01-13 15:36:18  JC Medical Center            JC110   \n",
       "2       2024-01-19 13:14:44       Morris Canal            JC072   \n",
       "3       2024-01-23 07:07:11       Morris Canal            JC072   \n",
       "4       2024-01-01 16:50:31       Morris Canal            JC072   \n",
       "...                     ...                ...              ...   \n",
       "171850  2024-03-27 17:47:49      Grove St PATH            JC115   \n",
       "171851  2024-03-15 17:33:03      Grove St PATH            JC115   \n",
       "171852  2024-03-14 22:50:17      Grove St PATH            JC115   \n",
       "171853  2024-03-08 16:56:44      Grove St PATH            JC115   \n",
       "171854  2024-03-24 11:54:47      Grove St PATH            JC115   \n",
       "\n",
       "       end_station_name end_station_id  start_lat  start_lng    end_lat  \\\n",
       "0           Oakland Ave          JC022  40.712297 -74.038185  40.737604   \n",
       "1         Grove St PATH          JC115  40.715391 -74.049692  40.719410   \n",
       "2           Exchange Pl          JC116  40.712419 -74.038526  40.716366   \n",
       "3           Exchange Pl          JC116  40.712419 -74.038526  40.716366   \n",
       "4            Harborside          JC104  40.712419 -74.038526  40.719252   \n",
       "...                 ...            ...        ...        ...        ...   \n",
       "171850   Lafayette Park          JC078  40.719410 -74.043090  40.713464   \n",
       "171851   Lafayette Park          JC078  40.719410 -74.043090  40.713464   \n",
       "171852   Lafayette Park          JC078  40.719410 -74.043090  40.713464   \n",
       "171853   Lafayette Park          JC078  40.719410 -74.043090  40.713464   \n",
       "171854   Lafayette Park          JC078  40.719148 -74.043232  40.713464   \n",
       "\n",
       "          end_lng member_casual  \n",
       "0      -74.052478        member  \n",
       "1      -74.043090        member  \n",
       "2      -74.034344        member  \n",
       "3      -74.034344        member  \n",
       "4      -74.034234        member  \n",
       "...           ...           ...  \n",
       "171850 -74.062859        member  \n",
       "171851 -74.062859        member  \n",
       "171852 -74.062859        member  \n",
       "171853 -74.062859        member  \n",
       "171854 -74.062859        member  \n",
       "\n",
       "[171855 rows x 13 columns]"
      ]
     },
     "execution_count": 3,
     "metadata": {},
     "output_type": "execute_result"
    }
   ],
   "source": [
    "combined_df = pd.concat([df1, df2, df3], ignore_index=True, axis=0)\n",
    "combined_df"
   ]
  },
  {
   "cell_type": "code",
   "execution_count": 5,
   "metadata": {},
   "outputs": [],
   "source": [
    "combined_df.to_csv(\"combined_2024.csv\")"
   ]
  },
  {
   "cell_type": "markdown",
   "metadata": {},
   "source": [
    "Part 2 - Data Analysis"
   ]
  },
  {
   "cell_type": "markdown",
   "metadata": {},
   "source": [
    "2. In the first dashboard:"
   ]
  },
  {
   "cell_type": "markdown",
   "metadata": {},
   "source": [
    "2.1. The dynamic maps.\n",
    "\n",
    "There are two dynamic maps in the first dashboard: the left one marks all the popular starting stations, the right one marks all the popular ending stations.\n",
    "\n",
    "The trend among the starting station is: From Jan to Mar, Grove st Path Station and Hoboken Terminal Station are the top 2 most popular starting station. Their popularities are far ahead of any other stations. It shows that New Yorkers really like to start their journeys at these two stations.\n",
    "\n",
    "The trend among the ending station is: similar to starting stations, Grove st Path Station and Hoboken Terminal Station are also the top 2 most popular starting station.\n",
    "\n",
    "In summary, the most popular stations in Johnson City, NY are Grove st Path Station and Hoboken Terminal Station."
   ]
  },
  {
   "cell_type": "markdown",
   "metadata": {},
   "source": [
    "2.2.  The busiest hour\n",
    "\n",
    "During weekdays, there are clearly two peaks on the grapth, the first peak is around 7-8 am in the morning, the other peak is around 5-6pm in the evening. It makes sense, because those are the times when people get to/off work.\n",
    "\n",
    "However, during weekends, the peak hours are usualy from 10am to 5pm, it is totally different from weekdays, which shows that people from Johnson City, NY like to enjoy their afternoon on the bikes."
   ]
  },
  {
   "cell_type": "markdown",
   "metadata": {},
   "source": [
    "2.3 The calendar\n",
    "\n",
    "The calendar is designed to act as a filter, the user would first select a month/year from the dropdown menu, the maps and graphs would change/re-plot according to the chosen data. And each day in the calendar would also filter the data to be the exact chosen day. Membership filter and Bike Type filter come with the calendar to give more options.\n",
    "\n",
    "The most interesting thing about the calendar is that, the calendar itself is a heatmap. The darker the color, the more trips happened on that day. So it allow user to tell how busy each day in a month by checking the color only. For example, in Jan 2024, weekdays are usually busier than weekends, and there are usually less trips happen on Sunday than any other days in the week."
   ]
  },
  {
   "cell_type": "markdown",
   "metadata": {},
   "source": [
    "3. In the second dashboard:"
   ]
  },
  {
   "cell_type": "markdown",
   "metadata": {},
   "source": [
    "3.1. The heat map\n",
    "\n",
    "The columns are weekdays, and the rows are hours, from 0 - 23 o'clock. The numbers are total number of trips happened in the weekday of the month at that particular time. And the darker the color, the higher total trip duration.\n",
    "\n",
    "According to the heat map, we can find something interesting about Johnson City, NY. For example, in Feb 2024, people often choose Sunday afternoon (14:00 -15:00) to do long distance ride. Especially at 15:00, there are only 611 total number of trips, but these trips have a total duration of 9365 min, which is the highest duration of that month. In contrary, On Thursday 17:00, people have done 1110 trips total in that months, which is almost twice more than Sunday 15:00, but their total travelling duration is only 8116 min. "
   ]
  },
  {
   "cell_type": "markdown",
   "metadata": {},
   "source": [
    "3.2 Average Trip Duration\n",
    "\n",
    "Citibike members usually spend less time on each trip than casual users. And electric Bikes usually cost less time to travel than classic bikes."
   ]
  },
  {
   "cell_type": "markdown",
   "metadata": {},
   "source": [
    "3.3 Total No. of Trips\n",
    "\n",
    "Citibike members have done a lot more trips than casual users, this is expected because they are members.\n",
    "And casual users prefer electric bikes more than classic bikes, only 1/3 of these trips are done on classic bikes. Members prefer electric bikes, too. However, the bias towards classic bikes in memebers is not strong, 2/5 of total trips are on classic bikes, which is quite a lot comparing to casual users. "
   ]
  },
  {
   "cell_type": "markdown",
   "metadata": {},
   "source": [
    "3.4 Classic vs. Electric bikes\n",
    "\n",
    "More and more trips are done on classic bikes, that means people in Johnson City gradually start to like classic bikes. While, people are still more into electic bikes in general."
   ]
  },
  {
   "cell_type": "markdown",
   "metadata": {},
   "source": [
    "3.5 Member vs Casual\n",
    "\n",
    "There are more and more casual and members each month for Citibike, the company's business is definately growing. We can tell there is a good increase in its user base in march. "
   ]
  },
  {
   "cell_type": "markdown",
   "metadata": {},
   "source": [
    "4. Average trip duration in general for the whole dataset.\n",
    "\n",
    "This is a general demonstration of average trip duration that are labelled by weekdays. We can tell in Jan 2024, the average trip duration is higher on Monday and Tuesday, but since February, people are spend more time on their trip on Sundays."
   ]
  },
  {
   "cell_type": "markdown",
   "metadata": {},
   "source": [
    "5. Total number of trips in general for the whole dataset.\n",
    "\n",
    "This is a general demonstration of total number of trips that are labelled by weekdays. We can tell, throughout the dataset (Jan to March), people in Johnson City, NY, usually done more trips on Thursday, except for Sunday 03 Mar 2024, its good day to ride bikes!"
   ]
  }
 ],
 "metadata": {
  "kernelspec": {
   "display_name": "dev",
   "language": "python",
   "name": "python3"
  },
  "language_info": {
   "codemirror_mode": {
    "name": "ipython",
    "version": 3
   },
   "file_extension": ".py",
   "mimetype": "text/x-python",
   "name": "python",
   "nbconvert_exporter": "python",
   "pygments_lexer": "ipython3",
   "version": "3.10.13"
  }
 },
 "nbformat": 4,
 "nbformat_minor": 2
}
